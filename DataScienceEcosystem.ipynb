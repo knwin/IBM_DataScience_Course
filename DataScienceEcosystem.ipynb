{
 "cells": [
  {
   "cell_type": "markdown",
   "id": "390c2698-f2bc-457f-a9ca-874e133e00e9",
   "metadata": {},
   "source": [
    "# Data Science Tools and Ecosystem"
   ]
  },
  {
   "cell_type": "markdown",
   "id": "b0264924-2ef4-439b-aa1b-5b62d4805cbf",
   "metadata": {},
   "source": [
    "In this notebook, Data Science Tools and Ecosystem are summarized."
   ]
  },
  {
   "cell_type": "markdown",
   "id": "c9f006ca-c792-4c8e-ba4a-bdde2df45d6c",
   "metadata": {},
   "source": [
    "**Objectives:**\n",
    "- Python\n",
    "- C\n",
    "- Java"
   ]
  },
  {
   "cell_type": "markdown",
   "id": "c331ae93-75f5-4164-8509-1adf50bbce1f",
   "metadata": {},
   "source": [
    "## Author\n",
    "Kyaw Naing Win"
   ]
  },
  {
   "cell_type": "markdown",
   "id": "b9b993f2-4125-4d5c-8c6f-6bad59c198bd",
   "metadata": {},
   "source": [
    "Some of the popular languages that Data Scientists use are:\n",
    "1. Python\n",
    "2. C\n",
    "3. java"
   ]
  },
  {
   "cell_type": "markdown",
   "id": "15c4ba0e-615c-40b0-851c-a12593a7c75c",
   "metadata": {},
   "source": [
    "Some of the commonly used libraries used by Data Scientists include:\n",
    "1. pandas\n",
    "2. scikit-learn\n",
    "3. numpy"
   ]
  },
  {
   "cell_type": "markdown",
   "id": "af0af073-3c8d-4af6-9b1b-319271c73a01",
   "metadata": {},
   "source": [
    "\n",
    "| Data Science Tools         |\n",
    "|----------------------------|\n",
    "| Github                     |\n",
    "| Jupyter Notebook           |\n",
    "| Python                     |"
   ]
  },
  {
   "cell_type": "markdown",
   "id": "49a69a28-d3cd-43fd-8089-7e2d91bf6a3f",
   "metadata": {},
   "source": [
    "### Below are a few examples of evaluating arithmetic expressions in Python"
   ]
  },
  {
   "cell_type": "code",
   "execution_count": 1,
   "id": "b63b5190-56be-47bc-ad66-0c68655e5af8",
   "metadata": {},
   "outputs": [
    {
     "data": {
      "text/plain": [
       "17"
      ]
     },
     "execution_count": 1,
     "metadata": {},
     "output_type": "execute_result"
    }
   ],
   "source": [
    "# This a simple arithmetic expression to mutiply then add integers\n",
    "( 3 * 4 ) + 5"
   ]
  },
  {
   "cell_type": "code",
   "execution_count": 2,
   "id": "89af03b4-8991-4b6b-8e48-2135c24df989",
   "metadata": {},
   "outputs": [
    {
     "data": {
      "text/plain": [
       "3.3333333333333335"
      ]
     },
     "execution_count": 2,
     "metadata": {},
     "output_type": "execute_result"
    }
   ],
   "source": [
    "# This will convert 200 minutes to hours by diving by 60.\n",
    "200 / 60"
   ]
  },
  {
   "cell_type": "markdown",
   "id": "a772dc07-08d3-4cef-baa2-af6376f2c63c",
   "metadata": {},
   "source": []
  }
 ],
 "metadata": {
  "kernelspec": {
   "display_name": "Python 3 (ipykernel)",
   "language": "python",
   "name": "python3"
  },
  "language_info": {
   "codemirror_mode": {
    "name": "ipython",
    "version": 3
   },
   "file_extension": ".py",
   "mimetype": "text/x-python",
   "name": "python",
   "nbconvert_exporter": "python",
   "pygments_lexer": "ipython3",
   "version": "3.10.10"
  }
 },
 "nbformat": 4,
 "nbformat_minor": 5
}
